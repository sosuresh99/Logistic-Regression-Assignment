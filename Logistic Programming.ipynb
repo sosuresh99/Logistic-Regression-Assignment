{
 "cells": [
  {
   "cell_type": "markdown",
   "metadata": {},
   "source": [
    "# Programming Assignment: Numerical Optimization for Logistic Regression.\n",
    "\n",
    "### Name: [Soorya Suresh]\n"
   ]
  },
  {
   "cell_type": "markdown",
   "metadata": {},
   "source": [
    "## 0. You will do the following:\n",
    "\n",
    "1. Read the lecture note: [click here](https://github.com/wangshusen/DeepLearning/blob/master/LectureNotes/Logistic/paper/logistic.pdf)\n",
    "\n",
    "2. Read, complete, and run my code.\n",
    "\n",
    "3. **Implement mini-batch SGD** and evaluate the performance.\n",
    "\n",
    "4. Convert the .IPYNB file to .HTML file.\n",
    "\n",
    "    * The HTML file must contain **the code** and **the output after execution**.\n",
    "    \n",
    "    * Missing **the output after execution** will not be graded.\n",
    "    \n",
    "    \n",
    "5. Upload this .HTML file to your Google Drive, Dropbox, or your Github repo.  (If you submit the file to Google Drive or Dropbox, you must make the file \"open-access\". The delay caused by \"deny of access\" may result in late penalty.)\n",
    "\n",
    "6. On Canvas, submit the Google Drive/Dropbox/Github link to the HTML file.\n",
    "\n",
    "\n",
    "## Grading criteria:\n",
    "\n",
    "1. When computing the ```gradient``` and ```objective function value``` using a batch of samples, use **matrix-vector multiplication** rather than a FOR LOOP of **vector-vector multiplications**.\n",
    "\n",
    "2. Plot ```objective function value``` against ```epochs```. In the plot, compare GD, SGD, and MB-SGD (with $b=8$ and $b=64$). The plot must look reasonable."
   ]
  },
  {
   "cell_type": "markdown",
   "metadata": {},
   "source": [
    "# 1. Data processing\n",
    "\n",
    "- Download the Diabete dataset from https://www.csie.ntu.edu.tw/~cjlin/libsvmtools/datasets/binary/diabetes\n",
    "- Load the data using sklearn.\n",
    "- Preprocess the data."
   ]
  },
  {
   "cell_type": "markdown",
   "metadata": {},
   "source": [
    "## 1.1. Load the data"
   ]
  },
  {
   "cell_type": "code",
   "execution_count": 1,
   "metadata": {},
   "outputs": [
    {
     "name": "stdout",
     "output_type": "stream",
     "text": [
      "Shape of x: (768, 8)\n",
      "Shape of y: (768,)\n"
     ]
    }
   ],
   "source": [
    "from sklearn import datasets\n",
    "import numpy\n",
    "\n",
    "x_sparse, y = datasets.load_svmlight_file('diabetes')\n",
    "x = x_sparse.todense()\n",
    "\n",
    "print('Shape of x: ' + str(x.shape))\n",
    "print('Shape of y: ' + str(y.shape))"
   ]
  },
  {
   "cell_type": "markdown",
   "metadata": {},
   "source": [
    "## 1.2. Partition to training and test sets"
   ]
  },
  {
   "cell_type": "code",
   "execution_count": 2,
   "metadata": {},
   "outputs": [
    {
     "name": "stdout",
     "output_type": "stream",
     "text": [
      "Shape of x_train: (640, 8)\n",
      "Shape of x_test: (128, 8)\n",
      "Shape of y_train: (640, 1)\n",
      "Shape of y_test: (128, 1)\n"
     ]
    }
   ],
   "source": [
    "# partition the data to training and test sets\n",
    "n = x.shape[0]\n",
    "n_train = 640\n",
    "n_test = n - n_train\n",
    "\n",
    "rand_indices = numpy.random.permutation(n)\n",
    "train_indices = rand_indices[0:n_train]\n",
    "test_indices = rand_indices[n_train:n]\n",
    "\n",
    "x_train = x[train_indices, :]\n",
    "x_test = x[test_indices, :]\n",
    "y_train = y[train_indices].reshape(n_train, 1)\n",
    "y_test = y[test_indices].reshape(n_test, 1)\n",
    "\n",
    "print('Shape of x_train: ' + str(x_train.shape))\n",
    "print('Shape of x_test: ' + str(x_test.shape))\n",
    "print('Shape of y_train: ' + str(y_train.shape))\n",
    "print('Shape of y_test: ' + str(y_test.shape))"
   ]
  },
  {
   "cell_type": "markdown",
   "metadata": {},
   "source": [
    "## 1.3. Feature scaling"
   ]
  },
  {
   "cell_type": "markdown",
   "metadata": {},
   "source": [
    "Use the standardization to trainsform both training and test features"
   ]
  },
  {
   "cell_type": "code",
   "execution_count": 3,
   "metadata": {},
   "outputs": [
    {
     "name": "stdout",
     "output_type": "stream",
     "text": [
      "test mean = \n",
      "[[-0.07086932  0.10513049  0.0512098   0.11588343 -0.0180108   0.05946569\n",
      "  -0.08438162  0.09829334]]\n",
      "test std = \n",
      "[[1.065022   1.0255224  1.11841399 1.07613639 0.97045244 1.1300538\n",
      "  0.86300657 1.0941474 ]]\n"
     ]
    }
   ],
   "source": [
    "# Standardization\n",
    "import numpy\n",
    "\n",
    "# calculate mu and sig using the training set\n",
    "d = x_train.shape[1]\n",
    "mu = numpy.mean(x_train, axis=0).reshape(1, d)\n",
    "sig = numpy.std(x_train, axis=0).reshape(1, d)\n",
    "\n",
    "# transform the training features\n",
    "x_train = (x_train - mu) / (sig + 1E-6)\n",
    "\n",
    "# transform the test features\n",
    "x_test = (x_test - mu) / (sig + 1E-6)\n",
    "\n",
    "print('test mean = ')\n",
    "print(numpy.mean(x_test, axis=0))\n",
    "\n",
    "print('test std = ')\n",
    "print(numpy.std(x_test, axis=0))"
   ]
  },
  {
   "cell_type": "markdown",
   "metadata": {},
   "source": [
    "## 1.4. Add a dimension of all ones"
   ]
  },
  {
   "cell_type": "code",
   "execution_count": 4,
   "metadata": {},
   "outputs": [
    {
     "name": "stdout",
     "output_type": "stream",
     "text": [
      "Shape of x_train: (640, 9)\n",
      "Shape of x_test: (128, 9)\n"
     ]
    }
   ],
   "source": [
    "n_train, d = x_train.shape\n",
    "x_train = numpy.concatenate((x_train, numpy.ones((n_train, 1))), axis=1)\n",
    "\n",
    "n_test, d = x_test.shape\n",
    "x_test = numpy.concatenate((x_test, numpy.ones((n_test, 1))), axis=1)\n",
    "\n",
    "print('Shape of x_train: ' + str(x_train.shape))\n",
    "print('Shape of x_test: ' + str(x_test.shape))"
   ]
  },
  {
   "cell_type": "markdown",
   "metadata": {},
   "source": [
    "# 2. Logistic regression model\n",
    "\n",
    "The objective function is $Q (w; X, y) = \\frac{1}{n} \\sum_{i=1}^n \\log \\Big( 1 + \\exp \\big( - y_i x_i^T w \\big) \\Big) + \\frac{\\lambda}{2} \\| w \\|_2^2 $."
   ]
  },
  {
   "cell_type": "code",
   "execution_count": 5,
   "metadata": {},
   "outputs": [],
   "source": [
    "# Calculate the objective function value\n",
    "# Inputs:\n",
    "#     w: d-by-1 matrix\n",
    "#     x: n-by-d matrix\n",
    "#     y: n-by-1 matrix\n",
    "#     lam: scalar, the regularization parameter\n",
    "# Return:\n",
    "#     objective function value (scalar)\n",
    "def objective(w, x, y, lam):\n",
    "    n, d = x.shape\n",
    "    yx = numpy.multiply(y, x) # n-by-d matrix\n",
    "    yxw = numpy.dot(yx, w) # n-by-1 matrix\n",
    "    vec1 = numpy.exp(-yxw) # n-by-1 matrix\n",
    "    vec2 = numpy.log(1 + vec1) # n-by-1 matrix\n",
    "    loss = numpy.mean(vec2) # scalar\n",
    "    reg = lam / 2 * numpy.sum(w * w) # scalar\n",
    "    return loss + reg\n",
    "    "
   ]
  },
  {
   "cell_type": "code",
   "execution_count": 6,
   "metadata": {},
   "outputs": [
    {
     "name": "stdout",
     "output_type": "stream",
     "text": [
      "Initial objective function value = 0.6931471805599453\n"
     ]
    }
   ],
   "source": [
    "# initialize w\n",
    "d = x_train.shape[1]\n",
    "w = numpy.zeros((d, 1))\n",
    "\n",
    "# evaluate the objective function value at w\n",
    "lam = 1E-6\n",
    "objval0 = objective(w, x_train, y_train, lam)\n",
    "print('Initial objective function value = ' + str(objval0))"
   ]
  },
  {
   "cell_type": "markdown",
   "metadata": {},
   "source": [
    "# 3. Numerical optimization"
   ]
  },
  {
   "cell_type": "markdown",
   "metadata": {},
   "source": [
    "## 3.1. Gradient descent\n"
   ]
  },
  {
   "cell_type": "markdown",
   "metadata": {},
   "source": [
    "The gradient at $w$ is $g = - \\frac{1}{n} \\sum_{i=1}^n \\frac{y_i x_i }{1 + \\exp ( y_i x_i^T w)} + \\lambda w$"
   ]
  },
  {
   "cell_type": "code",
   "execution_count": 7,
   "metadata": {},
   "outputs": [],
   "source": [
    "# Calculate the gradient\n",
    "# Inputs:\n",
    "#     w: d-by-1 matrix\n",
    "#     x: n-by-d matrix\n",
    "#     y: n-by-1 matrix\n",
    "#     lam: scalar, the regularization parameter\n",
    "# Return:\n",
    "#     g: g: d-by-1 matrix, full gradient\n",
    "def gradient(w, x, y, lam):\n",
    "    n, d = x.shape\n",
    "    yx = numpy.multiply(y, x) # n-by-d matrix\n",
    "    yxw = numpy.dot(yx, w) # n-by-1 matrix\n",
    "    vec1 = numpy.exp(yxw) # n-by-1 matrix\n",
    "    vec2 = numpy.divide(yx, 1+vec1) # n-by-d matrix\n",
    "    vec3 = -numpy.mean(vec2, axis=0).reshape(d, 1) # d-by-1 matrix\n",
    "    g = vec3 + lam * w\n",
    "    return g"
   ]
  },
  {
   "cell_type": "code",
   "execution_count": 8,
   "metadata": {},
   "outputs": [],
   "source": [
    "# Gradient descent for solving logistic regression\n",
    "# Inputs:\n",
    "#     x: n-by-d matrix\n",
    "#     y: n-by-1 matrix\n",
    "#     lam: scalar, the regularization parameter\n",
    "#     stepsize: scalar\n",
    "#     max_iter: integer, the maximal iterations\n",
    "#     w: d-by-1 matrix, initialization of w\n",
    "# Return:\n",
    "#     w: d-by-1 matrix, the solution\n",
    "#     objvals: a record of each iteration's objective value\n",
    "def grad_descent(x, y, lam, stepsize, max_iter=100, w=None):\n",
    "    n, d = x.shape\n",
    "    objvals = numpy.zeros(max_iter) # store the objective values\n",
    "    if w is None:\n",
    "        w = numpy.zeros((d, 1)) # zero initialization\n",
    "    \n",
    "    for t in range(max_iter):\n",
    "        objval = objective(w, x, y, lam)\n",
    "        objvals[t] = objval\n",
    "        print('Objective value at t=' + str(t) + ' is ' + str(objval))\n",
    "        g = gradient(w, x, y, lam)\n",
    "        w -= stepsize * g\n",
    "    \n",
    "    return w, objvals"
   ]
  },
  {
   "cell_type": "markdown",
   "metadata": {},
   "source": [
    "Run gradient descent."
   ]
  },
  {
   "cell_type": "code",
   "execution_count": 9,
   "metadata": {},
   "outputs": [
    {
     "name": "stdout",
     "output_type": "stream",
     "text": [
      "Objective value at t=0 is 0.6931471805599453\n",
      "Objective value at t=1 is 0.5957411105417552\n",
      "Objective value at t=2 is 0.5556691726850684\n",
      "Objective value at t=3 is 0.5341302795143784\n",
      "Objective value at t=4 is 0.5207074377314754\n",
      "Objective value at t=5 is 0.5116275277965681\n",
      "Objective value at t=6 is 0.505169717970275\n",
      "Objective value at t=7 is 0.5004199183716509\n",
      "Objective value at t=8 is 0.49684035936851434\n",
      "Objective value at t=9 is 0.49409177208703875\n",
      "Objective value at t=10 is 0.4919492902102697\n",
      "Objective value at t=11 is 0.4902583508269297\n",
      "Objective value at t=12 is 0.4889096878556349\n",
      "Objective value at t=13 is 0.4878242893558486\n",
      "Objective value at t=14 is 0.48694393238579814\n",
      "Objective value at t=15 is 0.4862250151439117\n",
      "Objective value at t=16 is 0.4856344232007914\n",
      "Objective value at t=17 is 0.4851466936936782\n",
      "Objective value at t=18 is 0.48474203084323253\n",
      "Objective value at t=19 is 0.4844048928426671\n",
      "Objective value at t=20 is 0.4841229698932907\n",
      "Objective value at t=21 is 0.4838864347140234\n",
      "Objective value at t=22 is 0.4836873858442059\n",
      "Objective value at t=23 is 0.4835194293089502\n",
      "Objective value at t=24 is 0.4833773608832603\n",
      "Objective value at t=25 is 0.48325692238098766\n",
      "Objective value at t=26 is 0.4831546130232238\n",
      "Objective value at t=27 is 0.4830675422147897\n",
      "Objective value at t=28 is 0.48299331375129306\n",
      "Objective value at t=29 is 0.4829299340976812\n",
      "Objective value at t=30 is 0.4828757392564761\n",
      "Objective value at t=31 is 0.4828293361041332\n",
      "Objective value at t=32 is 0.4827895550695025\n",
      "Objective value at t=33 is 0.48275541176391495\n",
      "Objective value at t=34 is 0.4827260757207428\n",
      "Objective value at t=35 is 0.4827008448145035\n",
      "Objective value at t=36 is 0.48267912424197623\n",
      "Objective value at t=37 is 0.48266040918634195\n",
      "Objective value at t=38 is 0.48264427046881964\n",
      "Objective value at t=39 is 0.48263034263431875\n",
      "Objective value at t=40 is 0.4826183140283418\n",
      "Objective value at t=41 is 0.4826079185091532\n",
      "Objective value at t=42 is 0.4825989285076859\n",
      "Objective value at t=43 is 0.4825911492019145\n",
      "Objective value at t=44 is 0.48258441361567284\n",
      "Objective value at t=45 is 0.48257857848652175\n",
      "Objective value at t=46 is 0.4825735207751348\n",
      "Objective value at t=47 is 0.48256913471117674\n",
      "Objective value at t=48 is 0.48256532928891116\n",
      "Objective value at t=49 is 0.4825620261406438\n",
      "Objective value at t=50 is 0.4825591577282644\n",
      "Objective value at t=51 is 0.4825566658031174\n",
      "Objective value at t=52 is 0.4825545000926342\n",
      "Objective value at t=53 is 0.48255261717893216\n",
      "Objective value at t=54 is 0.48255097954018455\n",
      "Objective value at t=55 is 0.48254955473021893\n",
      "Objective value at t=56 is 0.4825483146756717\n",
      "Objective value at t=57 is 0.48254723507325015\n",
      "Objective value at t=58 is 0.4825462948723566\n",
      "Objective value at t=59 is 0.48254547583058816\n",
      "Objective value at t=60 is 0.4825447621315179\n",
      "Objective value at t=61 is 0.4825441400557732\n",
      "Objective value at t=62 is 0.4825435976977537\n",
      "Objective value at t=63 is 0.4825431247214853\n",
      "Objective value at t=64 is 0.4825427121500529\n",
      "Objective value at t=65 is 0.4825423521838746\n",
      "Objective value at t=66 is 0.4825420380437682\n",
      "Objective value at t=67 is 0.482541763835345\n",
      "Objective value at t=68 is 0.4825415244317651\n",
      "Objective value at t=69 is 0.48254131537231365\n",
      "Objective value at t=70 is 0.4825411327746133\n",
      "Objective value at t=71 is 0.48254097325860473\n",
      "Objective value at t=72 is 0.482540833880684\n",
      "Objective value at t=73 is 0.48254071207661237\n",
      "Objective value at t=74 is 0.4825406056120104\n",
      "Objective value at t=75 is 0.48254051253940783\n",
      "Objective value at t=76 is 0.48254043116096723\n",
      "Objective value at t=77 is 0.4825403599961186\n",
      "Objective value at t=78 is 0.48254029775344776\n",
      "Objective value at t=79 is 0.4825402433062683\n",
      "Objective value at t=80 is 0.48254019567139084\n",
      "Objective value at t=81 is 0.4825401539906607\n",
      "Objective value at t=82 is 0.4825401175149001\n",
      "Objective value at t=83 is 0.48254008558993705\n",
      "Objective value at t=84 is 0.4825400576444447\n",
      "Objective value at t=85 is 0.48254003317935545\n",
      "Objective value at t=86 is 0.48254001175864153\n",
      "Objective value at t=87 is 0.4825399930012839\n",
      "Objective value at t=88 is 0.48253997657427516\n",
      "Objective value at t=89 is 0.4825399621865211\n",
      "Objective value at t=90 is 0.48253994958352364\n",
      "Objective value at t=91 is 0.4825399385427451\n",
      "Objective value at t=92 is 0.482539928869565\n",
      "Objective value at t=93 is 0.4825399203937525\n",
      "Objective value at t=94 is 0.48253991296638843\n",
      "Objective value at t=95 is 0.4825399064571791\n",
      "Objective value at t=96 is 0.48253990075211156\n",
      "Objective value at t=97 is 0.4825398957514058\n",
      "Objective value at t=98 is 0.4825398913677269\n",
      "Objective value at t=99 is 0.48253988752462335\n"
     ]
    }
   ],
   "source": [
    "lam = 1E-6\n",
    "stepsize = 1.0\n",
    "w, objvals_gd = grad_descent(x_train, y_train, lam, stepsize)"
   ]
  },
  {
   "cell_type": "markdown",
   "metadata": {},
   "source": [
    "## 3.2. Stochastic gradient descent (SGD)\n",
    "\n",
    "Define $Q_i (w) = \\log \\Big( 1 + \\exp \\big( - y_i x_i^T w \\big) \\Big) + \\frac{\\lambda}{2} \\| w \\|_2^2 $.\n",
    "\n",
    "The stochastic gradient at $w$ is $g_i = \\frac{\\partial Q_i }{ \\partial w} = -\\frac{y_i x_i }{1 + \\exp ( y_i x_i^T w)} + \\lambda w$."
   ]
  },
  {
   "cell_type": "code",
   "execution_count": 10,
   "metadata": {},
   "outputs": [],
   "source": [
    "# Calculate the objective Q_i and the gradient of Q_i\n",
    "# Inputs:\n",
    "#     w: d-by-1 matrix\n",
    "#     xi: 1-by-d matrix\n",
    "#     yi: scalar\n",
    "#     lam: scalar, the regularization parameter\n",
    "# Return:\n",
    "#     obj: scalar, the objective Q_i\n",
    "#     g: d-by-1 matrix, gradient of Q_i\n",
    "def stochastic_objective_gradient(w, xi, yi, lam):\n",
    "    yx = yi * xi # 1-by-d matrix\n",
    "    yxw = float(numpy.dot(yx, w)) # scalar\n",
    "    \n",
    "    # calculate objective function Q_i\n",
    "    loss = numpy.log(1 + numpy.exp(-yxw)) # scalar\n",
    "    reg = lam / 2 * numpy.sum(w * w) # scalar\n",
    "    obj = loss + reg\n",
    "    \n",
    "    # calculate stochastic gradient\n",
    "    g_loss = -yx.T / (1 + numpy.exp(yxw)) # d-by-1 matrix\n",
    "    g = g_loss + lam * w # d-by-1 matrix\n",
    "    \n",
    "    return obj, g"
   ]
  },
  {
   "cell_type": "code",
   "execution_count": 11,
   "metadata": {},
   "outputs": [],
   "source": [
    "# SGD for solving logistic regression\n",
    "# Inputs:\n",
    "#     x: n-by-d matrix\n",
    "#     y: n-by-1 matrix\n",
    "#     lam: scalar, the regularization parameter\n",
    "#     stepsize: scalar\n",
    "#     max_epoch: integer, the maximal epochs\n",
    "#     w: d-by-1 matrix, initialization of w\n",
    "# Return:\n",
    "#     w: the solution\n",
    "#     objvals: record of each iteration's objective value\n",
    "def sgd(x, y, lam, stepsize, max_epoch=100, w=None):\n",
    "    n, d = x.shape\n",
    "    objvals = numpy.zeros(max_epoch) # store the objective values\n",
    "    if w is None:\n",
    "        w = numpy.zeros((d, 1)) # zero initialization\n",
    "    \n",
    "    for t in range(max_epoch):\n",
    "        # randomly shuffle the samples\n",
    "        rand_indices = numpy.random.permutation(n)\n",
    "        x_rand = x[rand_indices, :]\n",
    "        y_rand = y[rand_indices, :]\n",
    "        \n",
    "        objval = 0 # accumulate the objective values\n",
    "        for i in range(n):\n",
    "            xi = x_rand[i, :] # 1-by-d matrix\n",
    "            yi = float(y_rand[i, :]) # scalar\n",
    "            obj, g = stochastic_objective_gradient(w, xi, yi, lam)\n",
    "            objval += obj\n",
    "            w -= stepsize * g\n",
    "        \n",
    "        stepsize *= 0.9 # decrease step size\n",
    "        objval /= n\n",
    "        objvals[t] = objval\n",
    "        print('Objective value at epoch t=' + str(t) + ' is ' + str(objval))\n",
    "    \n",
    "    return w, objvals"
   ]
  },
  {
   "cell_type": "markdown",
   "metadata": {},
   "source": [
    "Run SGD."
   ]
  },
  {
   "cell_type": "code",
   "execution_count": 12,
   "metadata": {},
   "outputs": [
    {
     "name": "stdout",
     "output_type": "stream",
     "text": [
      "Objective value at epoch t=0 is 0.5330283706031178\n",
      "Objective value at epoch t=1 is 0.5377912639277465\n",
      "Objective value at epoch t=2 is 0.5280745145900925\n",
      "Objective value at epoch t=3 is 0.5234109910796725\n",
      "Objective value at epoch t=4 is 0.5197614707783966\n",
      "Objective value at epoch t=5 is 0.5216092396919081\n",
      "Objective value at epoch t=6 is 0.5129866714892085\n",
      "Objective value at epoch t=7 is 0.5072846943979503\n",
      "Objective value at epoch t=8 is 0.5052092459443591\n",
      "Objective value at epoch t=9 is 0.5041085538999666\n",
      "Objective value at epoch t=10 is 0.5045223498677792\n",
      "Objective value at epoch t=11 is 0.5011118658407197\n",
      "Objective value at epoch t=12 is 0.4980178073933126\n",
      "Objective value at epoch t=13 is 0.4986153238575802\n",
      "Objective value at epoch t=14 is 0.49501565253506624\n",
      "Objective value at epoch t=15 is 0.4943645238918319\n",
      "Objective value at epoch t=16 is 0.49611958051543886\n",
      "Objective value at epoch t=17 is 0.4929037823732402\n",
      "Objective value at epoch t=18 is 0.4925070355037355\n",
      "Objective value at epoch t=19 is 0.4924799556238944\n",
      "Objective value at epoch t=20 is 0.49106242429522196\n",
      "Objective value at epoch t=21 is 0.4900794248844103\n",
      "Objective value at epoch t=22 is 0.48956805272399845\n",
      "Objective value at epoch t=23 is 0.48850104646593034\n",
      "Objective value at epoch t=24 is 0.4880195282281039\n",
      "Objective value at epoch t=25 is 0.48777752490854465\n",
      "Objective value at epoch t=26 is 0.48722628380684735\n",
      "Objective value at epoch t=27 is 0.4868550067121243\n",
      "Objective value at epoch t=28 is 0.4859939435615742\n",
      "Objective value at epoch t=29 is 0.4860709421182845\n",
      "Objective value at epoch t=30 is 0.4854536491205743\n",
      "Objective value at epoch t=31 is 0.4853718009270044\n",
      "Objective value at epoch t=32 is 0.4850710939336934\n",
      "Objective value at epoch t=33 is 0.4848235764577719\n",
      "Objective value at epoch t=34 is 0.48454674798973646\n",
      "Objective value at epoch t=35 is 0.4843165586087901\n",
      "Objective value at epoch t=36 is 0.484219701138277\n",
      "Objective value at epoch t=37 is 0.48402747158707704\n",
      "Objective value at epoch t=38 is 0.4839085846548471\n",
      "Objective value at epoch t=39 is 0.483776694282635\n",
      "Objective value at epoch t=40 is 0.48365778950126703\n",
      "Objective value at epoch t=41 is 0.4835599366906491\n",
      "Objective value at epoch t=42 is 0.4834628513040629\n",
      "Objective value at epoch t=43 is 0.48334195290070536\n",
      "Objective value at epoch t=44 is 0.4832811309691308\n",
      "Objective value at epoch t=45 is 0.4832086685152423\n",
      "Objective value at epoch t=46 is 0.4831409010999407\n",
      "Objective value at epoch t=47 is 0.48308104388884515\n",
      "Objective value at epoch t=48 is 0.48303098955988855\n",
      "Objective value at epoch t=49 is 0.48297760715428906\n",
      "Objective value at epoch t=50 is 0.4829343378191247\n",
      "Objective value at epoch t=51 is 0.48289680525583245\n",
      "Objective value at epoch t=52 is 0.48286274828667974\n",
      "Objective value at epoch t=53 is 0.4828287090426383\n",
      "Objective value at epoch t=54 is 0.4828006741445875\n",
      "Objective value at epoch t=55 is 0.48277466957031007\n",
      "Objective value at epoch t=56 is 0.48275182076849876\n",
      "Objective value at epoch t=57 is 0.4827299226863251\n",
      "Objective value at epoch t=58 is 0.4827116186928122\n",
      "Objective value at epoch t=59 is 0.4826942294512017\n",
      "Objective value at epoch t=60 is 0.4826793312834513\n",
      "Objective value at epoch t=61 is 0.48266490115916233\n",
      "Objective value at epoch t=62 is 0.48265274994797097\n",
      "Objective value at epoch t=63 is 0.4826415019714876\n",
      "Objective value at epoch t=64 is 0.4826314757137422\n",
      "Objective value at epoch t=65 is 0.48262237674816494\n",
      "Objective value at epoch t=66 is 0.4826141306866708\n",
      "Objective value at epoch t=67 is 0.4826066423516129\n",
      "Objective value at epoch t=68 is 0.48260010531586073\n",
      "Objective value at epoch t=69 is 0.48259411328242613\n",
      "Objective value at epoch t=70 is 0.48258868816693673\n",
      "Objective value at epoch t=71 is 0.48258384274526467\n",
      "Objective value at epoch t=72 is 0.48257945457256557\n",
      "Objective value at epoch t=73 is 0.4825755458545812\n",
      "Objective value at epoch t=74 is 0.48257201312873077\n",
      "Objective value at epoch t=75 is 0.4825687907170953\n",
      "Objective value at epoch t=76 is 0.4825659513263985\n",
      "Objective value at epoch t=77 is 0.4825633805845079\n",
      "Objective value at epoch t=78 is 0.4825610535546329\n",
      "Objective value at epoch t=79 is 0.4825589621691827\n",
      "Objective value at epoch t=80 is 0.482557076937428\n",
      "Objective value at epoch t=81 is 0.4825553897533223\n",
      "Objective value at epoch t=82 is 0.48255386272235795\n",
      "Objective value at epoch t=83 is 0.4825524932078694\n",
      "Objective value at epoch t=84 is 0.48255126050188374\n",
      "Objective value at epoch t=85 is 0.48255014820348885\n",
      "Objective value at epoch t=86 is 0.48254914911329483\n",
      "Objective value at epoch t=87 is 0.4825482491588532\n",
      "Objective value at epoch t=88 is 0.48254743698181224\n",
      "Objective value at epoch t=89 is 0.48254670914979786\n",
      "Objective value at epoch t=90 is 0.4825460530754807\n",
      "Objective value at epoch t=91 is 0.4825454619036349\n",
      "Objective value at epoch t=92 is 0.4825449305208771\n",
      "Objective value at epoch t=93 is 0.48254445193256545\n",
      "Objective value at epoch t=94 is 0.48254402161137583\n",
      "Objective value at epoch t=95 is 0.48254363397127553\n",
      "Objective value at epoch t=96 is 0.48254328512196343\n",
      "Objective value at epoch t=97 is 0.48254297116825545\n",
      "Objective value at epoch t=98 is 0.48254268860750926\n",
      "Objective value at epoch t=99 is 0.48254243427857785\n"
     ]
    }
   ],
   "source": [
    "lam = 1E-6\n",
    "stepsize = 0.1\n",
    "w, objvals_sgd = sgd(x_train, y_train, lam, stepsize)"
   ]
  },
  {
   "cell_type": "markdown",
   "metadata": {},
   "source": [
    "# 4. Compare GD with SGD\n",
    "\n",
    "Plot objective function values against epochs."
   ]
  },
  {
   "cell_type": "code",
   "execution_count": 13,
   "metadata": {},
   "outputs": [
    {
     "data": {
      "image/png": "[encoded data removed]",
      "text/plain": [
       "<Figure size 432x288 with 1 Axes>"
      ]
     },
     "metadata": {
      "needs_background": "light"
     },
     "output_type": "display_data"
    }
   ],
   "source": [
    "import matplotlib.pyplot as plt\n",
    "%matplotlib inline\n",
    "\n",
    "fig = plt.figure(figsize=(6, 4))\n",
    "\n",
    "epochs_gd = range(len(objvals_gd))\n",
    "epochs_sgd = range(len(objvals_sgd))\n",
    "\n",
    "line0, = plt.plot(epochs_gd, objvals_gd, '--b', LineWidth=4)\n",
    "line1, = plt.plot(epochs_sgd, objvals_sgd, '-r', LineWidth=2)\n",
    "plt.xlabel('Epochs', FontSize=20)\n",
    "plt.ylabel('Objective Value', FontSize=20)\n",
    "plt.xticks(FontSize=16)\n",
    "plt.yticks(FontSize=16)\n",
    "plt.legend([line0, line1], ['GD', 'SGD'], fontsize=20)\n",
    "plt.tight_layout()\n",
    "plt.show()\n",
    "fig.savefig('compare_gd_sgd.pdf', format='pdf', dpi=1200)"
   ]
  },
  {
   "cell_type": "markdown",
   "metadata": {},
   "source": [
    "# 5. Prediction"
   ]
  },
  {
   "cell_type": "code",
   "execution_count": 14,
   "metadata": {},
   "outputs": [],
   "source": [
    "# Predict class label\n",
    "# Inputs:\n",
    "#     w: d-by-1 matrix\n",
    "#     X: m-by-d matrix\n",
    "# Return:\n",
    "#     f: m-by-1 matrix, the predictions\n",
    "def predict(w, X):\n",
    "    xw = numpy.dot(X, w)\n",
    "    f = numpy.sign(xw)\n",
    "    return f"
   ]
  },
  {
   "cell_type": "code",
   "execution_count": 15,
   "metadata": {},
   "outputs": [
    {
     "name": "stdout",
     "output_type": "stream",
     "text": [
      "Training classification error is 0.2265625\n"
     ]
    }
   ],
   "source": [
    "# evaluate training error\n",
    "f_train = predict(w, x_train)\n",
    "diff = numpy.abs(f_train - y_train) / 2\n",
    "error_train = numpy.mean(diff)\n",
    "print('Training classification error is ' + str(error_train))"
   ]
  },
  {
   "cell_type": "code",
   "execution_count": 16,
   "metadata": {},
   "outputs": [
    {
     "name": "stdout",
     "output_type": "stream",
     "text": [
      "Test classification error is 0.1875\n"
     ]
    }
   ],
   "source": [
    "# evaluate test error\n",
    "f_test = predict(w, x_test)\n",
    "diff = numpy.abs(f_test - y_test) / 2\n",
    "error_test = numpy.mean(diff)\n",
    "print('Test classification error is ' + str(error_test))"
   ]
  },
  {
   "cell_type": "markdown",
   "metadata": {},
   "source": [
    "# 6. Mini-batch SGD (fill the code)\n",
    "\n"
   ]
  },
  {
   "cell_type": "markdown",
   "metadata": {},
   "source": [
    "## 6.1. Compute the objective $Q_I$ and its gradient using a batch of samples\n",
    "\n",
    "Define $Q_I (w) = \\frac{1}{b} \\sum_{i \\in I} \\log \\Big( 1 + \\exp \\big( - y_i x_i^T w \\big) \\Big) + \\frac{\\lambda}{2} \\| w \\|_2^2 $, where $I$ is a set containing $b$ indices randomly drawn from $\\{ 1, \\cdots , n \\}$ without replacement.\n",
    "\n",
    "The stochastic gradient at $w$ is $g_I = \\frac{\\partial Q_I }{ \\partial w} = \\frac{1}{b} \\sum_{i \\in I} \\frac{- y_i x_i }{1 + \\exp ( y_i x_i^T w)} + \\lambda w$."
   ]
  },
  {
   "cell_type": "code",
   "execution_count": 23,
   "metadata": {},
   "outputs": [],
   "source": [
    "# Calculate the objective Q_I and the gradient of Q_I\n",
    "# Inputs:\n",
    "#     w: d-by-1 matrix\n",
    "#     xi: b-by-d matrix\n",
    "#     yi: b-by-1 matrix\n",
    "#     lam: scalar, the regularization parameter\n",
    "#     b: integer, the batch size\n",
    "# Return:\n",
    "#     obj: scalar, the objective Q_i\n",
    "#     g: d-by-1 matrix, gradient of Q_i\n",
    "def mb_stochastic_objective_gradient(w, xi, yi, lam, b):\n",
    "    \n",
    "    yx = numpy.multiply(yi,xi) # 1-by-d matrix\n",
    "    yxw = (numpy.dot(yx, w)) # scalar\n",
    "    \n",
    "    # calculate objective function Q_i\n",
    "    loss = numpy.mean(numpy.log(1 + numpy.exp(-yxw))) # scalar\n",
    "    reg = (lam / 2) * numpy.sum(w * w) # scalar\n",
    "    obj = loss + reg\n",
    "    \n",
    "    # calculate stochastic gradient\n",
    "    g_loss = numpy.mean(-yx / (1 + numpy.exp(yxw)),axis=0).reshape(d,1) # d-by-1 matrix\n",
    "    g = g_loss + lam * w # d-by-1 matrix\n",
    "    # Fill the function\n",
    "    # Follow the implementation of stochastic_objective_gradient\n",
    "    # Use matrix-vector multiplication; do not use FOR LOOP of vector-vector multiplications\n",
    "    ...\n",
    "    \n",
    "    return obj, g"
   ]
  },
  {
   "cell_type": "markdown",
   "metadata": {},
   "source": [
    "## 6.2. Implement mini-batch SGD\n",
    "\n",
    "Hints:\n",
    "1. In every epoch, randomly permute the $n$ samples (just like SGD).\n",
    "2. Each epoch has $\\frac{n}{b}$ iterations. In every iteration, use $b$ samples, and compute the gradient and objective using the ``mb_stochastic_objective_gradient`` function. In the next iteration, use the next $b$ samples, and so on.\n"
   ]
  },
  {
   "cell_type": "code",
   "execution_count": 24,
   "metadata": {},
   "outputs": [],
   "source": [
    "# Mini-Batch SGD for solving logistic regression\n",
    "# Inputs:\n",
    "#     x: n-by-d matrix\n",
    "#     y: n-by-1 matrix\n",
    "#     lam: scalar, the regularization parameter\n",
    "#     b: integer, the batch size\n",
    "#     stepsize: scalar\n",
    "#     max_epoch: integer, the maximal epochs\n",
    "#     w: d-by-1 matrix, initialization of w\n",
    "# Return:\n",
    "#     w: the solution\n",
    "#     objvals: record of each iteration's objective value\n",
    "def mb_sgd(x, y, lam, b, stepsize, max_epoch=100, w=None):\n",
    "    # Fill the function\n",
    "    # Follow the implementation of sgd\n",
    "    # Record one objective value per epoch (not per iteration!)\n",
    "    \n",
    "    n, d = x.shape\n",
    "    objvals = numpy.zeros(max_epoch) # store the objective values\n",
    "    if w is None:\n",
    "        w = numpy.zeros((d, 1)) # zero initialization\n",
    "    \n",
    "    for t in range(max_epoch):\n",
    "        # randomly shuffle the samples\n",
    "        rand_indices = numpy.random.permutation(n)\n",
    "        x_rand = x[rand_indices, :]\n",
    "        y_rand = y[rand_indices]\n",
    "        \n",
    "        objval = 0 # accumulate the objective values\n",
    "        for i in range(0,n,b):\n",
    "            xi = x_rand[i:i + b] # 1-by-d matrix\n",
    "            yi = (y_rand[i:i+b]) # scalar\n",
    "            obj, g = mb_stochastic_objective_gradient(w, xi, yi, lam,b)\n",
    "            objval += obj\n",
    "            w -= stepsize * g\n",
    "        \n",
    "        stepsize *= 0.9 # decrease step size\n",
    "        objval /= n/b\n",
    "        objvals[t] = objval\n",
    "        print('Objective value at epoch t=' + str(t) + ' is ' + str(objval))\n",
    "    \n",
    "    return w, objvals"
   ]
  },
  {
   "cell_type": "markdown",
   "metadata": {},
   "source": [
    "## 6.3. Run MB-SGD"
   ]
  },
  {
   "cell_type": "code",
   "execution_count": 25,
   "metadata": {},
   "outputs": [
    {
     "name": "stdout",
     "output_type": "stream",
     "text": [
      "Objective value at epoch t=0 is 0.5556642446298549\n",
      "Objective value at epoch t=1 is 0.4985714953268937\n",
      "Objective value at epoch t=2 is 0.4918533059698581\n",
      "Objective value at epoch t=3 is 0.4894409333414284\n",
      "Objective value at epoch t=4 is 0.4874694241339667\n",
      "Objective value at epoch t=5 is 0.4877448134351364\n",
      "Objective value at epoch t=6 is 0.4875112961040885\n",
      "Objective value at epoch t=7 is 0.4863747925445446\n",
      "Objective value at epoch t=8 is 0.48662053847891656\n",
      "Objective value at epoch t=9 is 0.48592570263392565\n",
      "Objective value at epoch t=10 is 0.4856174626805035\n",
      "Objective value at epoch t=11 is 0.48537513536488097\n",
      "Objective value at epoch t=12 is 0.48527695033693935\n",
      "Objective value at epoch t=13 is 0.48485149175685394\n",
      "Objective value at epoch t=14 is 0.48443704164464363\n",
      "Objective value at epoch t=15 is 0.4843781051381223\n",
      "Objective value at epoch t=16 is 0.48427583607568225\n",
      "Objective value at epoch t=17 is 0.48412546527157707\n",
      "Objective value at epoch t=18 is 0.4839034763711732\n",
      "Objective value at epoch t=19 is 0.4838178221852621\n",
      "Objective value at epoch t=20 is 0.4837329239731553\n",
      "Objective value at epoch t=21 is 0.48364204806806\n",
      "Objective value at epoch t=22 is 0.4834152898033353\n",
      "Objective value at epoch t=23 is 0.4834341622669708\n",
      "Objective value at epoch t=24 is 0.4832858848277066\n",
      "Objective value at epoch t=25 is 0.4831707505900932\n",
      "Objective value at epoch t=26 is 0.48314870867743515\n",
      "Objective value at epoch t=27 is 0.483130275342161\n",
      "Objective value at epoch t=28 is 0.4830882133316604\n",
      "Objective value at epoch t=29 is 0.4830021579486325\n",
      "Objective value at epoch t=30 is 0.4829420545410471\n",
      "Objective value at epoch t=31 is 0.4828648479945903\n",
      "Objective value at epoch t=32 is 0.4828781610451049\n",
      "Objective value at epoch t=33 is 0.4828450116608912\n",
      "Objective value at epoch t=34 is 0.4828041645048824\n",
      "Objective value at epoch t=35 is 0.482751281009815\n",
      "Objective value at epoch t=36 is 0.4827719741014704\n",
      "Objective value at epoch t=37 is 0.48271345542735516\n",
      "Objective value at epoch t=38 is 0.482703694935991\n",
      "Objective value at epoch t=39 is 0.4827124660963027\n",
      "Objective value at epoch t=40 is 0.48268180950638023\n",
      "Objective value at epoch t=41 is 0.48268414691950295\n",
      "Objective value at epoch t=42 is 0.4826574170942065\n",
      "Objective value at epoch t=43 is 0.48264283422787235\n",
      "Objective value at epoch t=44 is 0.48263277389439063\n",
      "Objective value at epoch t=45 is 0.4826244162920936\n",
      "Objective value at epoch t=46 is 0.4826181823611659\n",
      "Objective value at epoch t=47 is 0.4826062544012125\n",
      "Objective value at epoch t=48 is 0.4825974690929809\n",
      "Objective value at epoch t=49 is 0.4825980977775318\n",
      "Objective value at epoch t=50 is 0.48258782746273543\n",
      "Objective value at epoch t=51 is 0.4825886159343901\n",
      "Objective value at epoch t=52 is 0.4825789928688713\n",
      "Objective value at epoch t=53 is 0.48258341069866156\n",
      "Objective value at epoch t=54 is 0.4825732617633012\n",
      "Objective value at epoch t=55 is 0.48257071248889893\n",
      "Objective value at epoch t=56 is 0.4825649161399956\n",
      "Objective value at epoch t=57 is 0.48256693094216896\n",
      "Objective value at epoch t=58 is 0.48256236916218515\n",
      "Objective value at epoch t=59 is 0.4825587365532778\n",
      "Objective value at epoch t=60 is 0.48255832632733353\n",
      "Objective value at epoch t=61 is 0.48255565586416693\n",
      "Objective value at epoch t=62 is 0.48255377331329835\n",
      "Objective value at epoch t=63 is 0.4825534758448873\n",
      "Objective value at epoch t=64 is 0.48255227425308445\n",
      "Objective value at epoch t=65 is 0.4825514851356857\n",
      "Objective value at epoch t=66 is 0.4825496802036689\n",
      "Objective value at epoch t=67 is 0.48254909764328185\n",
      "Objective value at epoch t=68 is 0.48254820618421973\n",
      "Objective value at epoch t=69 is 0.4825473152613168\n",
      "Objective value at epoch t=70 is 0.48254741546088836\n",
      "Objective value at epoch t=71 is 0.48254578214140453\n",
      "Objective value at epoch t=72 is 0.4825457849772855\n",
      "Objective value at epoch t=73 is 0.4825453188386481\n",
      "Objective value at epoch t=74 is 0.4825450572727622\n",
      "Objective value at epoch t=75 is 0.4825446444420482\n",
      "Objective value at epoch t=76 is 0.4825438766749069\n",
      "Objective value at epoch t=77 is 0.4825437806115177\n",
      "Objective value at epoch t=78 is 0.4825435938821118\n",
      "Objective value at epoch t=79 is 0.4825433826407628\n",
      "Objective value at epoch t=80 is 0.48254306629497146\n",
      "Objective value at epoch t=81 is 0.4825427491707431\n",
      "Objective value at epoch t=82 is 0.4825425768246136\n",
      "Objective value at epoch t=83 is 0.48254241452362645\n",
      "Objective value at epoch t=84 is 0.4825422278572488\n",
      "Objective value at epoch t=85 is 0.4825422189257497\n",
      "Objective value at epoch t=86 is 0.4825420539387065\n",
      "Objective value at epoch t=87 is 0.4825419628733341\n",
      "Objective value at epoch t=88 is 0.48254179263657127\n",
      "Objective value at epoch t=89 is 0.48254178329378783\n",
      "Objective value at epoch t=90 is 0.48254162467281636\n",
      "Objective value at epoch t=91 is 0.4825415731657715\n",
      "Objective value at epoch t=92 is 0.4825415153568744\n",
      "Objective value at epoch t=93 is 0.4825414013951169\n",
      "Objective value at epoch t=94 is 0.4825413933408935\n",
      "Objective value at epoch t=95 is 0.48254134866719306\n",
      "Objective value at epoch t=96 is 0.48254130830151576\n",
      "Objective value at epoch t=97 is 0.4825412477894252\n",
      "Objective value at epoch t=98 is 0.48254122591976867\n",
      "Objective value at epoch t=99 is 0.482541201942231\n"
     ]
    }
   ],
   "source": [
    "# MB-SGD with batch size b=8\n",
    "lam = 1E-6 # do not change\n",
    "b = 8 # do not change\n",
    "stepsize = 0.1 # you must tune this parameter\n",
    "\n",
    "w, objvals_mbsgd8 = mb_sgd(x_train, y_train, lam, b, stepsize)"
   ]
  },
  {
   "cell_type": "code",
   "execution_count": 27,
   "metadata": {},
   "outputs": [
    {
     "name": "stdout",
     "output_type": "stream",
     "text": [
      "Objective value at epoch t=0 is 0.5530678719588462\n",
      "Objective value at epoch t=1 is 0.4978766512983623\n",
      "Objective value at epoch t=2 is 0.4939217171154371\n",
      "Objective value at epoch t=3 is 0.4898052976489796\n",
      "Objective value at epoch t=4 is 0.48978263464961874\n",
      "Objective value at epoch t=5 is 0.48745831620452995\n",
      "Objective value at epoch t=6 is 0.48834620643274745\n",
      "Objective value at epoch t=7 is 0.4872692867173612\n",
      "Objective value at epoch t=8 is 0.4887136303531455\n",
      "Objective value at epoch t=9 is 0.4853567878826808\n",
      "Objective value at epoch t=10 is 0.4856058556374835\n",
      "Objective value at epoch t=11 is 0.4850665706373073\n",
      "Objective value at epoch t=12 is 0.4855934251564655\n",
      "Objective value at epoch t=13 is 0.4846417210571019\n",
      "Objective value at epoch t=14 is 0.48446484289572445\n",
      "Objective value at epoch t=15 is 0.48437091729572146\n",
      "Objective value at epoch t=16 is 0.48377284406330734\n",
      "Objective value at epoch t=17 is 0.484345777173948\n",
      "Objective value at epoch t=18 is 0.4837552744665996\n",
      "Objective value at epoch t=19 is 0.4833503042681591\n",
      "Objective value at epoch t=20 is 0.4834659525941866\n",
      "Objective value at epoch t=21 is 0.48384234856617425\n",
      "Objective value at epoch t=22 is 0.4835015502305879\n",
      "Objective value at epoch t=23 is 0.483389238884123\n",
      "Objective value at epoch t=24 is 0.48353675925465184\n",
      "Objective value at epoch t=25 is 0.48320645456471406\n",
      "Objective value at epoch t=26 is 0.48333948213372163\n",
      "Objective value at epoch t=27 is 0.4832077393849013\n",
      "Objective value at epoch t=28 is 0.48293734929136106\n",
      "Objective value at epoch t=29 is 0.48305028305757747\n",
      "Objective value at epoch t=30 is 0.482946897138998\n",
      "Objective value at epoch t=31 is 0.4829505345512784\n",
      "Objective value at epoch t=32 is 0.48281330801827294\n",
      "Objective value at epoch t=33 is 0.48282748859181124\n",
      "Objective value at epoch t=34 is 0.4828140956303556\n",
      "Objective value at epoch t=35 is 0.48277391715273443\n",
      "Objective value at epoch t=36 is 0.48279262280868995\n",
      "Objective value at epoch t=37 is 0.4827777209725781\n",
      "Objective value at epoch t=38 is 0.48271313448454267\n",
      "Objective value at epoch t=39 is 0.4827243073482702\n",
      "Objective value at epoch t=40 is 0.48272436575157124\n",
      "Objective value at epoch t=41 is 0.48272272036199304\n",
      "Objective value at epoch t=42 is 0.4826595350512039\n",
      "Objective value at epoch t=43 is 0.48267165614536917\n",
      "Objective value at epoch t=44 is 0.4826485029595644\n",
      "Objective value at epoch t=45 is 0.4826278050905063\n",
      "Objective value at epoch t=46 is 0.48260914046710346\n",
      "Objective value at epoch t=47 is 0.4826200751074758\n",
      "Objective value at epoch t=48 is 0.48260313506144054\n",
      "Objective value at epoch t=49 is 0.4825921704466364\n",
      "Objective value at epoch t=50 is 0.48259219177980056\n",
      "Objective value at epoch t=51 is 0.48258814973054437\n",
      "Objective value at epoch t=52 is 0.48259212694811887\n",
      "Objective value at epoch t=53 is 0.48258521843432334\n",
      "Objective value at epoch t=54 is 0.4825738793443599\n",
      "Objective value at epoch t=55 is 0.4825587897418842\n",
      "Objective value at epoch t=56 is 0.48256499078825454\n",
      "Objective value at epoch t=57 is 0.482568106030671\n",
      "Objective value at epoch t=58 is 0.48256635242309454\n",
      "Objective value at epoch t=59 is 0.4825607622506028\n",
      "Objective value at epoch t=60 is 0.48255919831795724\n",
      "Objective value at epoch t=61 is 0.48255849360531594\n",
      "Objective value at epoch t=62 is 0.4825581517691626\n",
      "Objective value at epoch t=63 is 0.4825507289984494\n",
      "Objective value at epoch t=64 is 0.4825523646805344\n",
      "Objective value at epoch t=65 is 0.48254960156737037\n",
      "Objective value at epoch t=66 is 0.4825471025817145\n",
      "Objective value at epoch t=67 is 0.4825492588105746\n",
      "Objective value at epoch t=68 is 0.4825497401822371\n",
      "Objective value at epoch t=69 is 0.4825459540681181\n",
      "Objective value at epoch t=70 is 0.48254619412907324\n",
      "Objective value at epoch t=71 is 0.48254644797127594\n",
      "Objective value at epoch t=72 is 0.4825455157006308\n",
      "Objective value at epoch t=73 is 0.48254486483814424\n",
      "Objective value at epoch t=74 is 0.4825443966809687\n",
      "Objective value at epoch t=75 is 0.4825436078543711\n",
      "Objective value at epoch t=76 is 0.4825444505880694\n",
      "Objective value at epoch t=77 is 0.4825438829961902\n",
      "Objective value at epoch t=78 is 0.48254338419410925\n",
      "Objective value at epoch t=79 is 0.48254328670297414\n",
      "Objective value at epoch t=80 is 0.48254198616626864\n",
      "Objective value at epoch t=81 is 0.48254250258944076\n",
      "Objective value at epoch t=82 is 0.482542092646419\n",
      "Objective value at epoch t=83 is 0.48254151955517177\n",
      "Objective value at epoch t=84 is 0.48254241380006746\n",
      "Objective value at epoch t=85 is 0.48254157353540245\n",
      "Objective value at epoch t=86 is 0.482541560460478\n",
      "Objective value at epoch t=87 is 0.4825412423547674\n",
      "Objective value at epoch t=88 is 0.4825413966945513\n",
      "Objective value at epoch t=89 is 0.4825412740994738\n",
      "Objective value at epoch t=90 is 0.48254113494666095\n",
      "Objective value at epoch t=91 is 0.48254099491677493\n",
      "Objective value at epoch t=92 is 0.48254096452772766\n",
      "Objective value at epoch t=93 is 0.48254069160487517\n",
      "Objective value at epoch t=94 is 0.48254073179604173\n",
      "Objective value at epoch t=95 is 0.4825407678998245\n",
      "Objective value at epoch t=96 is 0.4825406711987707\n",
      "Objective value at epoch t=97 is 0.48254067696049513\n",
      "Objective value at epoch t=98 is 0.4825406947757921\n",
      "Objective value at epoch t=99 is 0.4825405871584289\n"
     ]
    }
   ],
   "source": [
    "# MB-SGD with batch size b=64\n",
    "lam = 1E-6 # do not change\n",
    "b = 64 # do not change\n",
    "stepsize = 0.9 # you must tune this parameter\n",
    "\n",
    "w, objvals_mbsgd64 = mb_sgd(x_train, y_train, lam, b, stepsize)"
   ]
  },
  {
   "cell_type": "markdown",
   "metadata": {},
   "source": [
    "# 7. Plot and compare GD, SGD, and MB-SGD"
   ]
  },
  {
   "cell_type": "markdown",
   "metadata": {},
   "source": [
    "You are required to compare the following algorithms:\n",
    "\n",
    "- Gradient descent (GD)\n",
    "\n",
    "- SGD\n",
    "\n",
    "- MB-SGD with b=8\n",
    "\n",
    "- MB-SGD with b=64\n",
    "\n",
    "Follow the code in Section 4 to plot ```objective function value``` against ```epochs```. There should be four curves in the plot; each curve corresponds to one algorithm."
   ]
  },
  {
   "cell_type": "markdown",
   "metadata": {},
   "source": [
    "Hint: Logistic regression with $\\ell_2$-norm regularization is a strongly convex optimization problem. All the algorithms will converge to the same solution. **In the end, the ``objective function value`` of the 4 algorithms will be the same. If not the same, your implementation must be wrong. Do NOT submit wrong code and wrong result!**"
   ]
  },
  {
   "cell_type": "code",
   "execution_count": 28,
   "metadata": {
    "scrolled": true
   },
   "outputs": [
    {
     "data": {
      "image/png": "[encoded data removed]",
      "text/plain": [
       "<Figure size 432x288 with 1 Axes>"
      ]
     },
     "metadata": {
      "needs_background": "light"
     },
     "output_type": "display_data"
    }
   ],
   "source": [
    "# plot the 4 curves:\n",
    "import matplotlib.pyplot as plt\n",
    "\n",
    "%matplotlib inline\n",
    "\n",
    "fig=plt.figure(figsize=(6,4))\n",
    "\n",
    "epochs_gd=range(len(objvals_gd))\n",
    "epochs_sgd=range(len(objvals_sgd))\n",
    "epochs_mbsgd8=range(len(objvals_mbsgd8))\n",
    "epochs_mbsgd64=range(len(objvals_mbsgd64))\n",
    "\n",
    "line0,=plt.plot(epochs_gd,objvals_gd,'--b',LineWidth=4)\n",
    "line1,=plt.plot(epochs_sgd,objvals_sgd,'-r',LineWidth=1)\n",
    "line2,=plt.plot(epochs_mbsgd8,objvals_mbsgd8,'--o',LineWidth=1)\n",
    "line3,=plt.plot(epochs_mbsgd64,objvals_mbsgd64,'--s',LineWidth=1)\n",
    "plt.xlabel('Epochs', fontsize=20)\n",
    "plt.ylabel('Objective Value',fontsize=20)\n",
    "plt.xticks(fontsize=16)\n",
    "plt.yticks(fontsize=16)\n",
    "\n",
    "plt.legend([line0,line1,line2,line3],['GD','SGD','MBSGD for b=8','MBSGD for b=64'],fontsize=20)\n",
    "plt.tight_layout()\n",
    "plt.show()\n",
    "\n"
   ]
  },
  {
   "cell_type": "markdown",
   "metadata": {},
   "source": []
  },
  {
   "cell_type": "markdown",
   "metadata": {},
   "source": [
    "Evaluating the Mini Batch Performance:Notice that the SGD performance had a low prediction error. Therefore, MBSGD resulting in the similar answers show that this method is accurate as well. The benefit of MBSGD compared to GD or SGD is that since it takes mini batches it requires less work and produces results faster."
   ]
  }
 ],
 "metadata": {
  "kernelspec": {
   "display_name": "Python 3",
   "language": "python",
   "name": "python3"
  },
  "language_info": {
   "codemirror_mode": {
    "name": "ipython",
    "version": 3
   },
   "file_extension": ".py",
   "mimetype": "text/x-python",
   "name": "python",
   "nbconvert_exporter": "python",
   "pygments_lexer": "ipython3",
   "version": "3.8.3"
  }
 },
 "nbformat": 4,
 "nbformat_minor": 2
}
